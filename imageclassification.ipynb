{
 "cells": [
  {
   "cell_type": "markdown",
   "metadata": {
    "editable": true,
    "id": "QYuALZOG-AMq",
    "slideshow": {
     "slide_type": ""
    },
    "tags": []
   },
   "source": [
    "## Assignment: Image recognition\n",
    "- Alumno 1: Dakota Mellish\n",
    "- Alumno 2: Javier Arteaga\n",
    "- Alumno 3: Rodrigo Castanon\n",
    "\n",
    "The goals of the assignment are:\n",
    "* Develop proficiency in using Tensorflow/Keras for training Neural Nets (NNs).\n",
    "* Put into practice the acquired knowledge to optimize the parameters and architecture of a feedforward Neural Net (ffNN), in the context of an image recognition problem.\n",
    "* Put into practice NNs specially conceived for analysing images. Design and optimize the parameters of a Convolutional Neural Net (CNN) to deal with previous task.\n",
    "* Train popular architectures from scratch (e.g., GoogLeNet, VGG, ResNet, ...), and compare the results with the ones provided by their pre-trained versions using transfer learning.\n",
    "\n",
    "Follow the link below to download the classification data set  “xview_recognition”: [https://drive.upm.es/s/4oNHlRFEd71HXp4](https://drive.upm.es/s/4oNHlRFEd71HXp4)"
   ]
  },
  {
   "cell_type": "code",
   "execution_count": null,
   "metadata": {
    "ExecuteTime": {
     "end_time": "2024-10-26T00:00:21.031186Z",
     "start_time": "2024-10-26T00:00:17.131476Z"
    },
    "editable": true,
    "execution": {
     "iopub.execute_input": "2025-02-24T08:57:24.942757Z",
     "iopub.status.busy": "2025-02-24T08:57:24.942469Z",
     "iopub.status.idle": "2025-02-24T08:57:37.881423Z",
     "shell.execute_reply": "2025-02-24T08:57:37.880566Z",
     "shell.execute_reply.started": "2025-02-24T08:57:24.942728Z"
    },
    "slideshow": {
     "slide_type": ""
    },
    "tags": [],
    "trusted": true
   },
   "outputs": [],
   "source": [
    "\n",
    "\n",
    "     \n",
    "import tensorflow as tf\n",
    "print(tf.config.list_physical_devices('GPU'))"
   ]
  },
  {
   "cell_type": "markdown",
   "metadata": {},
   "source": [
    "### Set Working Directory"
   ]
  },
  {
   "cell_type": "code",
   "execution_count": null,
   "metadata": {
    "execution": {
     "iopub.execute_input": "2025-02-24T08:57:37.883382Z",
     "iopub.status.busy": "2025-02-24T08:57:37.882868Z",
     "iopub.status.idle": "2025-02-24T08:57:37.888433Z",
     "shell.execute_reply": "2025-02-24T08:57:37.887509Z",
     "shell.execute_reply.started": "2025-02-24T08:57:37.883358Z"
    },
    "trusted": true
   },
   "outputs": [],
   "source": [
    "import os \n",
    "\n",
    "print(os.getcwd())\n",
    "\n",
    "os.chdir('/kaggle')\n",
    "print(os.getcwd())\n",
    "\n",
    "\n",
    "base_dir='/kaggle/input/xview-recognition/xview_recognition/'"
   ]
  },
  {
   "cell_type": "code",
   "execution_count": null,
   "metadata": {
    "ExecuteTime": {
     "end_time": "2024-10-26T00:00:21.066937Z",
     "start_time": "2024-10-26T00:00:21.059126Z"
    },
    "editable": true,
    "execution": {
     "iopub.execute_input": "2025-02-24T08:57:37.892467Z",
     "iopub.status.busy": "2025-02-24T08:57:37.892119Z",
     "iopub.status.idle": "2025-02-24T08:57:37.924814Z",
     "shell.execute_reply": "2025-02-24T08:57:37.923980Z",
     "shell.execute_reply.started": "2025-02-24T08:57:37.892435Z"
    },
    "id": "OYtqD3Oh-AMw",
    "slideshow": {
     "slide_type": ""
    },
    "tags": [],
    "trusted": true
   },
   "outputs": [],
   "source": [
    "import uuid\n",
    "import numpy as np\n",
    "\n",
    "class GenericObject:\n",
    "    \"\"\"\n",
    "    Generic object data.\n",
    "    \"\"\"\n",
    "    def __init__(self):\n",
    "        self.id = uuid.uuid4()\n",
    "        self.bb = (-1, -1, -1, -1)\n",
    "        self.category= -1\n",
    "        self.score = -1\n",
    "\n",
    "class GenericImage:\n",
    "    \"\"\"\n",
    "    Generic image data.\n",
    "    \"\"\"\n",
    "    def __init__(self, filename):\n",
    "        self.filename = filename\n",
    "        self.tile = np.array([-1, -1, -1, -1])  # (pt_x, pt_y, pt_x+width, pt_y+height)\n",
    "        self.objects = list([])\n",
    "\n",
    "    def add_object(self, obj: GenericObject):\n",
    "        self.objects.append(obj)"
   ]
  },
  {
   "cell_type": "code",
   "execution_count": null,
   "metadata": {
    "ExecuteTime": {
     "end_time": "2024-10-26T00:00:21.153693Z",
     "start_time": "2024-10-26T00:00:21.149079Z"
    },
    "execution": {
     "iopub.execute_input": "2025-02-24T08:57:37.925894Z",
     "iopub.status.busy": "2025-02-24T08:57:37.925610Z",
     "iopub.status.idle": "2025-02-24T08:57:37.939584Z",
     "shell.execute_reply": "2025-02-24T08:57:37.938837Z",
     "shell.execute_reply.started": "2025-02-24T08:57:37.925866Z"
    },
    "id": "I_GygShu-AMz",
    "trusted": true
   },
   "outputs": [],
   "source": [
    "categories = {0: 'Cargo plane', 1: 'Helicopter', 2: 'Small car', 3: 'Bus', 4: 'Truck', 5: 'Motorboat', 6: 'Fishing vessel', 7: 'Dump truck', 8: 'Excavator', 9: 'Building', 10: 'Storage tank', 11: 'Shipping container'}"
   ]
  },
  {
   "cell_type": "code",
   "execution_count": null,
   "metadata": {
    "ExecuteTime": {
     "end_time": "2024-10-26T00:00:21.292654Z",
     "start_time": "2024-10-26T00:00:21.205321Z"
    },
    "editable": true,
    "execution": {
     "iopub.execute_input": "2025-02-24T08:57:37.941608Z",
     "iopub.status.busy": "2025-02-24T08:57:37.941383Z",
     "iopub.status.idle": "2025-02-24T08:57:44.023769Z",
     "shell.execute_reply": "2025-02-24T08:57:44.022969Z",
     "shell.execute_reply.started": "2025-02-24T08:57:37.941589Z"
    },
    "id": "fRBA7ReQ-AM0",
    "slideshow": {
     "slide_type": ""
    },
    "tags": [],
    "trusted": true
   },
   "outputs": [],
   "source": [
    "!pip install rasterio\n",
    "import warnings\n",
    "import rasterio\n",
    "import numpy as np\n",
    "\n",
    "def load_geoimage(filename):\n",
    "    warnings.filterwarnings('ignore', category=rasterio.errors.NotGeoreferencedWarning)\n",
    "    src_raster = rasterio.open(base_dir+filename, 'r')\n",
    "    # RasterIO to OpenCV (see inconsistencies between libjpeg and libjpeg-turbo)\n",
    "    input_type = src_raster.profile['dtype']\n",
    "    input_channels = src_raster.count\n",
    "    img = np.zeros((src_raster.height, src_raster.width, src_raster.count), dtype=input_type)\n",
    "    for band in range(input_channels):\n",
    "        img[:, :, band] = src_raster.read(band+1)\n",
    "    return img"
   ]
  },
  {
   "cell_type": "markdown",
   "metadata": {
    "id": "diNBB3qy-AM2"
   },
   "source": [
    "#### Training\n",
    "Design and train a ffNN to deal with the “xview_recognition” classification task."
   ]
  },
  {
   "cell_type": "code",
   "execution_count": null,
   "metadata": {
    "ExecuteTime": {
     "end_time": "2024-10-26T00:00:21.416449Z",
     "start_time": "2024-10-26T00:00:21.311510Z"
    },
    "editable": true,
    "execution": {
     "iopub.execute_input": "2025-02-24T08:57:44.025677Z",
     "iopub.status.busy": "2025-02-24T08:57:44.025141Z",
     "iopub.status.idle": "2025-02-24T08:57:44.132618Z",
     "shell.execute_reply": "2025-02-24T08:57:44.131639Z",
     "shell.execute_reply.started": "2025-02-24T08:57:44.025654Z"
    },
    "id": "Orto292C-AM3",
    "slideshow": {
     "slide_type": ""
    },
    "tags": [],
    "trusted": true
   },
   "outputs": [],
   "source": [
    "\n",
    "\n",
    "import json\n",
    "# Load database\n",
    "json_file = base_dir+'/xview_ann_train.json'\n",
    "with open(json_file) as ifs:\n",
    "    json_data = json.load(ifs)\n",
    "ifs.close()"
   ]
  },
  {
   "cell_type": "code",
   "execution_count": null,
   "metadata": {
    "ExecuteTime": {
     "end_time": "2024-10-26T00:00:22.874518Z",
     "start_time": "2024-10-26T00:00:22.204948Z"
    },
    "execution": {
     "iopub.execute_input": "2025-02-24T08:57:44.133795Z",
     "iopub.status.busy": "2025-02-24T08:57:44.133549Z",
     "iopub.status.idle": "2025-02-24T08:57:44.543390Z",
     "shell.execute_reply": "2025-02-24T08:57:44.542464Z",
     "shell.execute_reply.started": "2025-02-24T08:57:44.133775Z"
    },
    "id": "4GjFLHs4-AM4",
    "outputId": "5581df22-d4e9-42ac-9f94-061fd8c7acd9",
    "trusted": true
   },
   "outputs": [],
   "source": [
    "import numpy as np\n",
    "\n",
    "counts = dict.fromkeys(categories.values(), 0)\n",
    "anns = []\n",
    "for json_img, json_ann in zip(json_data['images'].values(), json_data['annotations'].values()):\n",
    "    image = GenericImage(json_img['filename'])\n",
    "    image.tile = np.array([0, 0, json_img['width'], json_img['height']])\n",
    "    obj = GenericObject()\n",
    "    obj.bb = (int(json_ann['bbox'][0]), int(json_ann['bbox'][1]), int(json_ann['bbox'][2]), int(json_ann['bbox'][3]))\n",
    "    obj.category = json_ann['category_id']\n",
    "    # Resampling strategy to reduce training time\n",
    "    counts[obj.category] += 1\n",
    "    image.add_object(obj)\n",
    "    anns.append(image)\n",
    "print(counts)"
   ]
  },
  {
   "cell_type": "code",
   "execution_count": null,
   "metadata": {
    "ExecuteTime": {
     "end_time": "2024-10-26T00:00:23.656800Z",
     "start_time": "2024-10-26T00:00:23.123245Z"
    },
    "execution": {
     "iopub.execute_input": "2025-02-24T08:57:44.544805Z",
     "iopub.status.busy": "2025-02-24T08:57:44.544485Z",
     "iopub.status.idle": "2025-02-24T08:57:44.955588Z",
     "shell.execute_reply": "2025-02-24T08:57:44.954774Z",
     "shell.execute_reply.started": "2025-02-24T08:57:44.544775Z"
    },
    "id": "NriAECvS-AM6",
    "trusted": true
   },
   "outputs": [],
   "source": [
    "from sklearn.model_selection import train_test_split\n",
    "\n",
    "anns_train, anns_valid = train_test_split(anns, test_size=0.1, random_state=1, shuffle=True)\n",
    "print('Number of training images: ' + str(len(anns_train)))\n",
    "print('Number of validation images: ' + str(len(anns_valid)))"
   ]
  },
  {
   "cell_type": "markdown",
   "metadata": {},
   "source": [
    "### Model Create\n",
    "Design model structure and shape "
   ]
  },
  {
   "cell_type": "code",
   "execution_count": null,
   "metadata": {
    "ExecuteTime": {
     "end_time": "2024-10-26T00:00:25.056806Z",
     "start_time": "2024-10-26T00:00:24.261581Z"
    },
    "execution": {
     "iopub.execute_input": "2025-02-24T08:57:44.956899Z",
     "iopub.status.busy": "2025-02-24T08:57:44.956353Z",
     "iopub.status.idle": "2025-02-24T08:57:46.932940Z",
     "shell.execute_reply": "2025-02-24T08:57:46.932226Z",
     "shell.execute_reply.started": "2025-02-24T08:57:44.956876Z"
    },
    "id": "BNkjbY2e-AM7",
    "outputId": "47bde031-306f-464e-8e22-cc70a7fb7c67",
    "trusted": true
   },
   "outputs": [],
   "source": [
    "# Load architecture\n",
    "from tensorflow.keras.models import Sequential\n",
    "from tensorflow.keras.layers import Dense, add,Dropout, Activation, Flatten,LeakyReLU,BatchNormalization,l1_l2\n",
    "\n",
    "from tensorflow.keras import Input\n",
    "\n",
    "\n",
    "from numpy import random\n",
    "\n",
    "\n",
    "\n",
    "## By default, the number of neurons is the same as the number of categories, scale down red \n",
    "def make_model(n_layers_dense,n_neurons,categories,input_shape,scale_down=1,activation_list=None,dropout=None,batch_normalization=False,l1_normalization=None,l2_normalization=None):\n",
    "    \"\"\"\"\n",
    "    n_layers_dense (integer): number of non-output or flatten layers\n",
    "    n_neurons (integer): total number of neurons to use\n",
    "    categories (list): list of distinct values that the model will attempt to classify\n",
    "    input_shape (3-tuple): tuple indicating the dimensions of the input data\n",
    "    scale_down (float, default=1): value which can be used to scale down deeper layers (ex: scale_down.5 could be 1048-524-256)\n",
    "    activation_list (list): An in-order list which provides the activation functions to be used\n",
    "    dropout (float default None): An optional parameter to allow for dropout based on the specified amount\n",
    "    batch_normalization (boolean default False): An optional parameter to allow for batch normalization\n",
    "    l1_normalization (float default none): An optional parameter to allow for l1_kernel normalization\n",
    "    l2_normalization (float default none): An optional parameter to allow for l2_kernel normaliation\n",
    "    \"\"\"\n",
    "    \n",
    "    \n",
    "    model = Sequential()  \n",
    "    model.add(Flatten(input_shape=input_shape))\n",
    "    ## Pull common activation types from https://faroit.com/keras-docs/1.2.2/activations/\n",
    "    activation_types=['relu','sigmoid','softmax','tanh','softplus','softsign','sigmoid','linear']   \n",
    "    if scale_down is None:\n",
    "           scale_down=1\n",
    "    scale=scale_down\n",
    "    for layer in range(0,n_layers_dense):\n",
    "     \n",
    "\n",
    "        if l1_normalization or l2_normalization is not None:\n",
    "            if l1_normalization and l2_normalization is not None:\n",
    "                model.add(Dense(n_neurons*scale,kernel_regularization=l1_l2(l1_normalization,l2_normalization)))\n",
    "                model.add(Activation(activation_list([layer])))\n",
    "            elif l1_normalization is not None and l2_normalization is None:\n",
    "                model.add(Dense(n_neurons*scale,kernel_regularization=l1_l2(l1_normalization,0)))\n",
    "                model.add(Activation(activation_list([layer])))\n",
    "\n",
    "            elif l2_normalization is not None and l1_normalization is None:\n",
    "                model.add(Dense(n_neurons*scale,kernel_regularization=l1_l2(0,l2_normalization)))\n",
    "                model.add(Activation(activation_list([layer])))\n",
    "                \n",
    "                \n",
    "        if dropout is not None:\n",
    "                model.add(Dropout(dropout))\n",
    "        if batch_normalization==True:\n",
    "                model.add(BatchNormalization())\n",
    "                \n",
    "        scale=scale*scale_down\n",
    "    \n",
    "    ## Add final layer for output\n",
    "    model.add(Dense(len(categories),activation='softmax'))\n",
    "    return model\n",
    "\n",
    "\n",
    "\n",
    "\n",
    "model_1=make_model(n_layers_dense=3,n_neurons=1048,scale_down=.5,input_shape=(224,224,3),activation_list=['relu','relu','relu'],categories=categories)\n",
    "\n",
    "\n",
    "\n",
    "# model.summary()\n",
    "\n",
    "\n",
    "\n",
    "\n",
    "\n",
    "\n",
    "\n",
    "### Here we can experiment with the architecture and try different amounts of layers\n",
    "\n",
    "# print('Load model')\n",
    "# model = Sequential()\n",
    "# ## This part will never change due to the input structure\n",
    "# model.add(Flatten(input_shape=(224, 224, 3)))\n",
    "\n",
    "# ## Here we can experiment between \n",
    "# model.add(Activation('relu'))\n",
    "# model.add(Dropout(0.2))\n",
    "# model.add(Dense(len(categories)))\n",
    "# model.add(Activation('softmax'))\n",
    "# model.summary()"
   ]
  },
  {
   "cell_type": "markdown",
   "metadata": {},
   "source": []
  },
  {
   "cell_type": "code",
   "execution_count": null,
   "metadata": {
    "ExecuteTime": {
     "end_time": "2024-10-26T00:00:25.467525Z",
     "start_time": "2024-10-26T00:00:25.434068Z"
    },
    "execution": {
     "iopub.execute_input": "2025-02-24T08:57:46.934032Z",
     "iopub.status.busy": "2025-02-24T08:57:46.933738Z",
     "iopub.status.idle": "2025-02-24T08:57:46.965082Z",
     "shell.execute_reply": "2025-02-24T08:57:46.964474Z",
     "shell.execute_reply.started": "2025-02-24T08:57:46.934003Z"
    },
    "id": "-aSlKtG6-AM7",
    "trusted": true
   },
   "outputs": [],
   "source": [
    "from tensorflow.keras.optimizers import Adam, SGD, RMSprop\n",
    "\n",
    "learning_rates=[1e-3,1e-2,1e-1]\n",
    "\n",
    "# Learning rate is changed to 0.001\n",
    "opt_1 = Adam(learning_rate=learning_rates[1], beta_1=0.9, beta_2=0.999, epsilon=1e-8, amsgrad=True, clipnorm=1.0)\n",
    "opt_2 = Adam(learning_rate=learning_rates[1], beta_1=0.9, beta_2=0.999, epsilon=1e-8, amsgrad=True, clipnorm=1.0)\n",
    "opt_3 = Adam(learning_rate=learning_rates[1], beta_1=0.9, beta_2=0.999, epsilon=1e-8, amsgrad=True, clipnorm=1.0)\n",
    "opt_4 = Adam(learning_rate=learning_rates[1], beta_1=0.9, beta_2=0.999, epsilon=1e-8, amsgrad=True, clipnorm=1.0)\n",
    "\n",
    "opt_2=SGD(learning_rate=learning_rates[1])\n",
    "opt_3=RMSprop(learning_rate=learning_rates[1])\n",
    "\n",
    "\n",
    "\n",
    "model_1.compile(optimizer=opt_1, loss='categorical_crossentropy', metrics=['accuracy'])\n",
    "model_2.compile(optimizer=opt_2, loss='categorical_crossentropy', metrics=['accuracy'])\n",
    "model_3.compile(optimizer=opt_3, loss='categorical_crossentropy', metrics=['accuracy'])\n",
    "model_4.compile(optimizer=opt_4, loss='categorical_crossentropy', metrics=['accuracy'])\n",
    "\n",
    "\n",
    "\n",
    "## Here we can experiment with a different optimizer such as Momentum, SGD, or RMSPROP as well as learning rate\n",
    "\n",
    "\n"
   ]
  },
  {
   "cell_type": "code",
   "execution_count": null,
   "metadata": {
    "ExecuteTime": {
     "end_time": "2024-10-26T00:00:26.254555Z",
     "start_time": "2024-10-26T00:00:26.243908Z"
    },
    "execution": {
     "iopub.execute_input": "2025-02-24T08:57:46.966109Z",
     "iopub.status.busy": "2025-02-24T08:57:46.965828Z",
     "iopub.status.idle": "2025-02-24T08:57:46.973201Z",
     "shell.execute_reply": "2025-02-24T08:57:46.972422Z",
     "shell.execute_reply.started": "2025-02-24T08:57:46.966080Z"
    },
    "id": "GGAJEfpB-AM8",
    "trusted": true
   },
   "outputs": [],
   "source": [
    "from tensorflow.keras.callbacks import TerminateOnNaN, EarlyStopping, ReduceLROnPlateau, ModelCheckpoint\n",
    "\n",
    "# Callbacks\n",
    "model_checkpoint_1 = ModelCheckpoint('/kaggle/working/model_1.keras', monitor='val_accuracy', verbose=1, save_best_only=True)\n",
    "# model_checkpoint_2 = ModelCheckpoint('/kaggle/working/model_2.keras', monitor='val_accuracy', verbose=1, save_best_only=True)\n",
    "# model_checkpoint_3 = ModelCheckpoint('/kaggle/working/model_3.keras', monitor='val_accuracy', verbose=1, save_best_only=True)\n",
    "# model_checkpoint_4 = ModelCheckpoint('/kaggle/working/model_4.keras', monitor='val_accuracy', verbose=1, save_best_only=True)\n",
    "\n",
    "reduce_lr = ReduceLROnPlateau('val_accuracy', factor=0.1, patience=10, verbose=1)\n",
    "early_stop = EarlyStopping('val_accuracy', patience=40, verbose=1)\n",
    "terminate = TerminateOnNaN()\n",
    "callbacks_1 = [model_checkpoint_1, reduce_lr, early_stop, terminate]\n",
    "callbacks_2 = [model_checkpoint_2, reduce_lr, early_stop, terminate]\n",
    "callbacks_3 = [model_checkpoint_3, reduce_lr, early_stop, terminate]\n",
    "callbacks_4 = [model_checkpoint_4, reduce_lr, early_stop, terminate]"
   ]
  },
  {
   "cell_type": "code",
   "execution_count": null,
   "metadata": {
    "execution": {
     "iopub.execute_input": "2025-02-24T08:57:46.974335Z",
     "iopub.status.busy": "2025-02-24T08:57:46.974026Z",
     "iopub.status.idle": "2025-02-24T08:57:46.987448Z",
     "shell.execute_reply": "2025-02-24T08:57:46.986739Z",
     "shell.execute_reply.started": "2025-02-24T08:57:46.974313Z"
    },
    "trusted": true
   },
   "outputs": [],
   "source": [
    "def generator_images(objs, batch_size, do_shuffle=False):\n",
    "    while True:\n",
    "        if do_shuffle:\n",
    "            np.random.shuffle(objs)\n",
    "        groups = [objs[i:i+batch_size] for i in range(0, len(objs), batch_size)]\n",
    "        for group in groups:\n",
    "            images, labels = [], []\n",
    "            for (filename, obj) in group:\n",
    "                # Load image\n",
    "                images.append(load_geoimage(filename))\n",
    "                probabilities = np.zeros(len(categories))\n",
    "                probabilities[list(categories.values()).index(obj.category)] = 1\n",
    "                labels.append(probabilities)\n",
    "            images = np.array(images).astype(np.float32)\n",
    "            labels = np.array(labels).astype(np.float32)\n",
    "            yield images, labels"
   ]
  },
  {
   "cell_type": "code",
   "execution_count": null,
   "metadata": {
    "ExecuteTime": {
     "end_time": "2024-10-26T00:00:27.058834Z",
     "start_time": "2024-10-26T00:00:27.022627Z"
    },
    "execution": {
     "iopub.execute_input": "2025-02-24T08:57:46.988542Z",
     "iopub.status.busy": "2025-02-24T08:57:46.988273Z",
     "iopub.status.idle": "2025-02-24T08:57:47.023843Z",
     "shell.execute_reply": "2025-02-24T08:57:47.023006Z",
     "shell.execute_reply.started": "2025-02-24T08:57:46.988521Z"
    },
    "id": "Yht-QqUH-AM8",
    "trusted": true
   },
   "outputs": [],
   "source": [
    "# Generate the list of objects from annotations\n",
    "objs_train = [(ann.filename, obj) for ann in anns_train for obj in ann.objects]\n",
    "objs_valid = [(ann.filename, obj) for ann in anns_valid for obj in ann.objects]\n",
    "# Generators\n",
    "batch_size = 16\n",
    "train_generator = generator_images(objs_train, batch_size, do_shuffle=True)\n",
    "valid_generator = generator_images(objs_valid, batch_size, do_shuffle=False)"
   ]
  },
  {
   "cell_type": "code",
   "execution_count": null,
   "metadata": {
    "ExecuteTime": {
     "start_time": "2024-10-26T00:00:27.913670Z"
    },
    "editable": true,
    "execution": {
     "iopub.execute_input": "2025-02-24T08:57:47.025035Z",
     "iopub.status.busy": "2025-02-24T08:57:47.024789Z",
     "iopub.status.idle": "2025-02-24T10:30:40.342430Z",
     "shell.execute_reply": "2025-02-24T10:30:40.341481Z",
     "shell.execute_reply.started": "2025-02-24T08:57:47.025014Z"
    },
    "id": "TrfpdECs-AM9",
    "jupyter": {
     "is_executing": true
    },
    "outputId": "21d89b78-d94c-442e-9bc2-517654c0b614",
    "slideshow": {
     "slide_type": ""
    },
    "tags": [],
    "trusted": true
   },
   "outputs": [],
   "source": [
    "import math\n",
    "import numpy as np\n",
    "\n",
    "print('Training model')\n",
    "epochs = 20\n",
    "train_steps = math.ceil(len(objs_train)/batch_size)\n",
    "valid_steps = math.ceil(len(objs_valid)/batch_size)\n",
    "h_1 = model_1.fit(train_generator, steps_per_epoch=train_steps, validation_data=valid_generator, validation_steps=valid_steps, epochs=epochs, callbacks=callbacks_1, verbose=1)\n",
    "h_2= model_2.fit(train_generator, steps_per_epoch=train_steps, validation_data=valid_generator, validation_steps=valid_steps, epochs=epochs, callbacks=callbacks_2, verbose=1)\n",
    "h_3=model_3.fit(train_generator, steps_per_epoch=train_steps, validation_data=valid_generator, validation_steps=valid_steps, epochs=epochs, callbacks=callbacks_3, verbose=1)\n",
    "h_4=model_4.fit(train_generator, steps_per_epoch=train_steps, validation_data=valid_generator, validation_steps=valid_steps, epochs=epochs, callbacks=callbacks_4, verbose=1)\n",
    "\n",
    "# # Best validation model\n",
    "# best_idx = int(np.argmax(h.history['val_accuracy']))\n",
    "# best_value = np.max(h.history['val_accuracy'])\n",
    "# print('Best validation model: epoch ' + str(best_idx+1), ' - val_accuracy ' + str(best_value))"
   ]
  },
  {
   "cell_type": "markdown",
   "metadata": {
    "editable": true,
    "id": "8IMMO_mT-AM9",
    "slideshow": {
     "slide_type": ""
    },
    "tags": []
   },
   "source": [
    "#### Validation\n",
    "Compute validation metrics."
   ]
  },
  {
   "cell_type": "code",
   "execution_count": null,
   "metadata": {
    "execution": {
     "iopub.execute_input": "2025-02-24T10:30:40.344322Z",
     "iopub.status.busy": "2025-02-24T10:30:40.343965Z",
     "iopub.status.idle": "2025-02-24T10:30:40.351721Z",
     "shell.execute_reply": "2025-02-24T10:30:40.350775Z",
     "shell.execute_reply.started": "2025-02-24T10:30:40.344290Z"
    },
    "id": "HAanJ-V0-AM1",
    "trusted": true
   },
   "outputs": [],
   "source": [
    "import matplotlib.pyplot as plt\n",
    "import numpy as np\n",
    "\n",
    "def draw_confusion_matrix(cm, categories):\n",
    "    # Draw confusion matrix\n",
    "    fig = plt.figure(figsize=[6.4*pow(len(categories), 0.5), 4.8*pow(len(categories), 0.5)])\n",
    "    ax = fig.add_subplot(111)\n",
    "    cm = cm.astype('float') / np.maximum(cm.sum(axis=1)[:, np.newaxis], np.finfo(np.float64).eps)\n",
    "    im = ax.imshow(cm, interpolation='nearest', cmap=plt.cm.get_cmap('Blues'))\n",
    "    ax.figure.colorbar(im, ax=ax)\n",
    "    ax.set(xticks=np.arange(cm.shape[1]), yticks=np.arange(cm.shape[0]), xticklabels=list(categories.values()), yticklabels=list(categories.values()), ylabel='Annotation', xlabel='Prediction')\n",
    "    # Rotate the tick labels and set their alignment\n",
    "    plt.setp(ax.get_xticklabels(), rotation=45, ha=\"right\", rotation_mode=\"anchor\")\n",
    "    # Loop over data dimensions and create text annotations\n",
    "    thresh = cm.max() / 2.0\n",
    "    for i in range(cm.shape[0]):\n",
    "        for j in range(cm.shape[1]):\n",
    "            ax.text(j, i, format(cm[i, j], '.2f'), ha=\"center\", va=\"center\", color=\"white\" if cm[i, j] > thresh else \"black\", fontsize=int(20-pow(len(categories), 0.5)))\n",
    "    fig.tight_layout()\n",
    "    plt.show(fig)"
   ]
  },
  {
   "cell_type": "code",
   "execution_count": null,
   "metadata": {
    "execution": {
     "iopub.execute_input": "2025-02-24T10:30:40.352971Z",
     "iopub.status.busy": "2025-02-24T10:30:40.352629Z",
     "iopub.status.idle": "2025-02-24T10:54:24.611124Z",
     "shell.execute_reply": "2025-02-24T10:54:24.610405Z",
     "shell.execute_reply.started": "2025-02-24T10:30:40.352948Z"
    },
    "trusted": true
   },
   "outputs": [],
   "source": [
    "import numpy as np\n",
    "\n",
    "counter=0\n",
    "for a_model in [model_1,model_2,model_3,model_4]:\n",
    "    model=a_model\n",
    "    num=counter+1\n",
    "    model.load_weights('/kaggle/working/model_'+str(num)+'.keras')\n",
    "    y_true, y_pred = [], []\n",
    "    for ann in anns_valid:\n",
    "        # Load image\n",
    "        image = load_geoimage(ann.filename)\n",
    "        for obj_pred in ann.objects:\n",
    "            # Generate prediction\n",
    "            warped_image = np.expand_dims(image, 0)\n",
    "            predictions = model.predict(warped_image, verbose=0)\n",
    "            # Save prediction\n",
    "            pred_category = list(categories.values())[np.argmax(predictions)]\n",
    "            pred_score = np.max(predictions)\n",
    "            y_true.append(obj_pred.category)\n",
    "            y_pred.append(pred_category)\n",
    "    from sklearn.metrics import confusion_matrix\n",
    "    \n",
    "    # Compute the confusion matrix\n",
    "    cm = confusion_matrix(y_true, y_pred, labels=list(categories.values()))\n",
    "    draw_confusion_matrix(cm, categories)\n",
    "\n",
    "    import numpy as np\n",
    "    \n",
    "    # Compute the accuracy\n",
    "    correct_samples_class = np.diag(cm).astype(float)\n",
    "    total_samples_class = np.sum(cm, axis=1).astype(float)\n",
    "    total_predicts_class = np.sum(cm, axis=0).astype(float)\n",
    "    print('Mean Accuracy: %.3f%%' % (np.sum(correct_samples_class) / np.sum(total_samples_class) * 100))\n",
    "    acc = correct_samples_class / np.maximum(total_samples_class, np.finfo(np.float64).eps)\n",
    "    print('Mean Recall: %.3f%%' % (acc.mean() * 100))\n",
    "    acc = correct_samples_class / np.maximum(total_predicts_class, np.finfo(np.float64).eps)\n",
    "    print('Mean Precision: %.3f%%' % (acc.mean() * 100))\n",
    "    for idx in range(len(categories)):\n",
    "        # True/False Positives (TP/FP) refer to the number of predicted positives that were correct/incorrect.\n",
    "        # True/False Negatives (TN/FN) refer to the number of predicted negatives that were correct/incorrect.\n",
    "        tp = cm[idx, idx]\n",
    "        fp = sum(cm[:, idx]) - tp\n",
    "        fn = sum(cm[idx, :]) - tp\n",
    "        tn = sum(np.delete(sum(cm) - cm[idx, :], idx))\n",
    "        # True Positive Rate: proportion of real positive cases that were correctly predicted as positive.\n",
    "        recall = tp / np.maximum(tp+fn, np.finfo(np.float64).eps)\n",
    "        # Precision: proportion of predicted positive cases that were truly real positives.\n",
    "        precision = tp / np.maximum(tp+fp, np.finfo(np.float64).eps)\n",
    "        # True Negative Rate: proportion of real negative cases that were correctly predicted as negative.\n",
    "        specificity = tn / np.maximum(tn+fp, np.finfo(np.float64).eps)\n",
    "        # Dice coefficient refers to two times the intersection of two sets divided by the sum of their areas.\n",
    "        # Dice = 2 |A∩B| / (|A|+|B|) = 2 TP / (2 TP + FP + FN)\n",
    "        f1_score = 2 * ((precision * recall) / np.maximum(precision+recall, np.finfo(np.float64).eps))\n",
    "        print('> %s: Recall: %.3f%% Precision: %.3f%% Specificity: %.3f%% Dice: %.3f%%' % (list(categories.values())[idx], recall*100, precision*100, specificity*100, f1_score*100))\n",
    "    \n",
    "    import os\n",
    "    import numpy as np\n",
    "    \n",
    "    anns = []\n",
    "    for (dirpath, dirnames, filenames) in os.walk(base_dir+'xview_test'):\n",
    "        for filename in filenames:\n",
    "            image = GenericImage('xview_test/'+filename)\n",
    "            image.tile = np.array([0, 0, 224, 224])\n",
    "            obj = GenericObject()\n",
    "            obj.bb = (0, 0, 224, 224)\n",
    "            obj.category = dirpath[dirpath.rfind('/')+1:]\n",
    "            image.add_object(obj)\n",
    "            anns.append(image)\n",
    "    print('Number of testing images: ' + str(len(anns)))\n",
    "    \n",
    "    import numpy as np\n",
    "    \n",
    "    model.load_weights('/kaggle/working/model_'+str(num)+'.keras')\n",
    "    predictions_data = {\"images\": {}, \"annotations\": {}}\n",
    "    for idx, ann in enumerate(anns):\n",
    "        image_data = {\"image_id\": ann.filename.split('/')[-1], \"filename\": ann.filename, \"width\": int(ann.tile[2]), \"height\": int(ann.tile[3])}\n",
    "        predictions_data[\"images\"][idx] = image_data\n",
    "        # Load image\n",
    "        image = load_geoimage(ann.filename)\n",
    "        for obj_pred in ann.objects:\n",
    "            # Generate prediction\n",
    "            warped_image = np.expand_dims(image, 0)\n",
    "            predictions = model.predict(warped_image, verbose=0)\n",
    "            # Save prediction\n",
    "            pred_category = list(categories.values())[np.argmax(predictions)]\n",
    "            pred_score = np.max(predictions)\n",
    "            annotation_data = {\"image_id\": ann.filename.split('/')[-1], \"category_id\": pred_category, \"bbox\": [int(x) for x in obj_pred.bb]}\n",
    "            predictions_data[\"annotations\"][idx] = annotation_data\n",
    "    \n",
    "    with open(\"/kaggle/working/prediction_model\"+str(counter)+\".json\", \"w\") as outfile:\n",
    "        json.dump(predictions_data, outfile)\n",
    "\n",
    "    counter+=1"
   ]
  },
  {
   "cell_type": "code",
   "execution_count": null,
   "metadata": {
    "trusted": true
   },
   "outputs": [],
   "source": []
  },
  {
   "cell_type": "code",
   "execution_count": null,
   "metadata": {
    "execution": {
     "iopub.execute_input": "2025-02-24T10:54:24.614001Z",
     "iopub.status.busy": "2025-02-24T10:54:24.613769Z",
     "iopub.status.idle": "2025-02-24T10:54:24.617428Z",
     "shell.execute_reply": "2025-02-24T10:54:24.616733Z",
     "shell.execute_reply.started": "2025-02-24T10:54:24.613982Z"
    },
    "trusted": true
   },
   "outputs": [],
   "source": [
    "# import numpy as np\n",
    "\n",
    "# # Compute the accuracy\n",
    "# correct_samples_class = np.diag(cm).astype(float)\n",
    "# total_samples_class = np.sum(cm, axis=1).astype(float)\n",
    "# total_predicts_class = np.sum(cm, axis=0).astype(float)\n",
    "# print('Mean Accuracy: %.3f%%' % (np.sum(correct_samples_class) / np.sum(total_samples_class) * 100))\n",
    "# acc = correct_samples_class / np.maximum(total_samples_class, np.finfo(np.float64).eps)\n",
    "# print('Mean Recall: %.3f%%' % (acc.mean() * 100))\n",
    "# acc = correct_samples_class / np.maximum(total_predicts_class, np.finfo(np.float64).eps)\n",
    "# print('Mean Precision: %.3f%%' % (acc.mean() * 100))\n",
    "# for idx in range(len(categories)):\n",
    "#     # True/False Positives (TP/FP) refer to the number of predicted positives that were correct/incorrect.\n",
    "#     # True/False Negatives (TN/FN) refer to the number of predicted negatives that were correct/incorrect.\n",
    "#     tp = cm[idx, idx]\n",
    "#     fp = sum(cm[:, idx]) - tp\n",
    "#     fn = sum(cm[idx, :]) - tp\n",
    "#     tn = sum(np.delete(sum(cm) - cm[idx, :], idx))\n",
    "#     # True Positive Rate: proportion of real positive cases that were correctly predicted as positive.\n",
    "#     recall = tp / np.maximum(tp+fn, np.finfo(np.float64).eps)\n",
    "#     # Precision: proportion of predicted positive cases that were truly real positives.\n",
    "#     precision = tp / np.maximum(tp+fp, np.finfo(np.float64).eps)\n",
    "#     # True Negative Rate: proportion of real negative cases that were correctly predicted as negative.\n",
    "#     specificity = tn / np.maximum(tn+fp, np.finfo(np.float64).eps)\n",
    "#     # Dice coefficient refers to two times the intersection of two sets divided by the sum of their areas.\n",
    "#     # Dice = 2 |A∩B| / (|A|+|B|) = 2 TP / (2 TP + FP + FN)\n",
    "#     f1_score = 2 * ((precision * recall) / np.maximum(precision+recall, np.finfo(np.float64).eps))\n",
    "#     print('> %s: Recall: %.3f%% Precision: %.3f%% Specificity: %.3f%% Dice: %.3f%%' % (list(categories.values())[idx], recall*100, precision*100, specificity*100, f1_score*100))"
   ]
  },
  {
   "cell_type": "markdown",
   "metadata": {},
   "source": [
    "#### Testing\n",
    "Try to improve the results provided in the competition."
   ]
  },
  {
   "cell_type": "code",
   "execution_count": null,
   "metadata": {
    "execution": {
     "iopub.execute_input": "2025-02-24T10:54:24.618743Z",
     "iopub.status.busy": "2025-02-24T10:54:24.618464Z",
     "iopub.status.idle": "2025-02-24T10:54:24.638915Z",
     "shell.execute_reply": "2025-02-24T10:54:24.638050Z",
     "shell.execute_reply.started": "2025-02-24T10:54:24.618722Z"
    },
    "id": "tJr_-xCt-AM-",
    "trusted": true
   },
   "outputs": [],
   "source": [
    "# import os\n",
    "# import numpy as np\n",
    "\n",
    "# anns = []\n",
    "# for (dirpath, dirnames, filenames) in os.walk(base_dir+'xview_test'):\n",
    "#     for filename in filenames:\n",
    "#         image = GenericImage('xview_test/'+filename)\n",
    "#         image.tile = np.array([0, 0, 224, 224])\n",
    "#         obj = GenericObject()\n",
    "#         obj.bb = (0, 0, 224, 224)\n",
    "#         obj.category = dirpath[dirpath.rfind('/')+1:]\n",
    "#         image.add_object(obj)\n",
    "#         anns.append(image)\n",
    "# print('Number of testing images: ' + str(len(anns)))\n",
    "\n"
   ]
  },
  {
   "cell_type": "code",
   "execution_count": null,
   "metadata": {
    "execution": {
     "iopub.execute_input": "2025-02-24T10:54:24.639994Z",
     "iopub.status.busy": "2025-02-24T10:54:24.639778Z",
     "iopub.status.idle": "2025-02-24T10:54:24.657811Z",
     "shell.execute_reply": "2025-02-24T10:54:24.657087Z",
     "shell.execute_reply.started": "2025-02-24T10:54:24.639975Z"
    },
    "id": "TGs2zqfv-AM_",
    "trusted": true
   },
   "outputs": [],
   "source": [
    "# import numpy as np\n",
    "\n",
    "# model.load_weights('/kaggle/working/model.keras')\n",
    "# predictions_data = {\"images\": {}, \"annotations\": {}}\n",
    "# for idx, ann in enumerate(anns):\n",
    "#     image_data = {\"image_id\": ann.filename.split('/')[-1], \"filename\": ann.filename, \"width\": int(ann.tile[2]), \"height\": int(ann.tile[3])}\n",
    "#     predictions_data[\"images\"][idx] = image_data\n",
    "#     # Load image\n",
    "#     image = load_geoimage(ann.filename)\n",
    "#     for obj_pred in ann.objects:\n",
    "#         # Generate prediction\n",
    "#         warped_image = np.expand_dims(image, 0)\n",
    "#         predictions = model.predict(warped_image, verbose=0)\n",
    "#         # Save prediction\n",
    "#         pred_category = list(categories.values())[np.argmax(predictions)]\n",
    "#         pred_score = np.max(predictions)\n",
    "#         annotation_data = {\"image_id\": ann.filename.split('/')[-1], \"category_id\": pred_category, \"bbox\": [int(x) for x in obj_pred.bb]}\n",
    "#         predictions_data[\"annotations\"][idx] = annotation_data"
   ]
  },
  {
   "cell_type": "code",
   "execution_count": null,
   "metadata": {
    "execution": {
     "iopub.execute_input": "2025-02-24T10:54:24.658921Z",
     "iopub.status.busy": "2025-02-24T10:54:24.658696Z",
     "iopub.status.idle": "2025-02-24T10:54:24.673657Z",
     "shell.execute_reply": "2025-02-24T10:54:24.672977Z",
     "shell.execute_reply.started": "2025-02-24T10:54:24.658901Z"
    },
    "trusted": true
   },
   "outputs": [],
   "source": [
    "# with open(\"/kaggle/working/prediction.json\", \"w\") as outfile:\n",
    "#     json.dump(predictions_data, outfile)\n",
    "\n"
   ]
  },
  {
   "cell_type": "code",
   "execution_count": null,
   "metadata": {
    "trusted": true
   },
   "outputs": [],
   "source": []
  }
 ],
 "metadata": {
  "colab": {
   "provenance": []
  },
  "kaggle": {
   "accelerator": "gpu",
   "dataSources": [
    {
     "datasetId": 6706986,
     "sourceId": 10805434,
     "sourceType": "datasetVersion"
    }
   ],
   "dockerImageVersionId": 30887,
   "isGpuEnabled": true,
   "isInternetEnabled": true,
   "language": "python",
   "sourceType": "notebook"
  },
  "kernelspec": {
   "display_name": "Python 3",
   "language": "python",
   "name": "python3"
  },
  "language_info": {
   "codemirror_mode": {
    "name": "ipython",
    "version": 3
   },
   "file_extension": ".py",
   "mimetype": "text/x-python",
   "name": "python",
   "nbconvert_exporter": "python",
   "pygments_lexer": "ipython3",
   "version": "3.10.12"
  }
 },
 "nbformat": 4,
 "nbformat_minor": 4
}
